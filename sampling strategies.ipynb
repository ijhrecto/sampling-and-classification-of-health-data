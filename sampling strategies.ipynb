{
 "cells": [
  {
   "cell_type": "markdown",
   "metadata": {},
   "source": [
    "# SAMPLING METHODS"
   ]
  },
  {
   "cell_type": "code",
   "execution_count": 1,
   "metadata": {},
   "outputs": [],
   "source": [
    "import numpy as np\n",
    "\n",
    "# Data, Spliting and Metrics\n",
    "from sklearn.datasets import load_breast_cancer\n",
    "from sklearn.model_selection import StratifiedKFold, cross_val_score, GridSearchCV\n",
    "from sklearn.metrics import classification_report, confusion_matrix, recall_score\n",
    "from sklearn.metrics import accuracy_score\n",
    "\n",
    "# Classification, Pipeline, and Sampling\n",
    "from sklearn.svm import SVC\n",
    "from imblearn.pipeline import Pipeline, make_pipeline\n",
    "from imblearn.over_sampling import SMOTE\n",
    "from imblearn.under_sampling import RandomUnderSampler\n"
   ]
  },
  {
   "cell_type": "markdown",
   "metadata": {},
   "source": [
    "# Data"
   ]
  },
  {
   "cell_type": "code",
   "execution_count": 2,
   "metadata": {},
   "outputs": [
    {
     "name": "stdout",
     "output_type": "stream",
     "text": [
      "Data Distribution\n",
      "Class -  Counts  -    Percentage\n",
      "0     -   212    -    37.26%\n",
      "1     -   357    -    62.74%\n"
     ]
    }
   ],
   "source": [
    "data = load_breast_cancer()\n",
    "x = data.data\n",
    "y = data.target\n",
    "values, counts = np.unique(y, return_counts=True)\n",
    "print(\"Data Distribution\")\n",
    "print(\"Class -  Counts  -    Percentage\")\n",
    "for i in range(len(values)):\n",
    "    print(f\"{values[i]}     -   {counts[i]}    -    {round(counts[i]/sum(counts)*100, 2)}%\")"
   ]
  },
  {
   "cell_type": "markdown",
   "metadata": {},
   "source": [
    "# Splitting"
   ]
  },
  {
   "cell_type": "code",
   "execution_count": 3,
   "metadata": {},
   "outputs": [
    {
     "name": "stdout",
     "output_type": "stream",
     "text": [
      "train:80.0%, test:20.0%\n"
     ]
    }
   ],
   "source": [
    "# cross validation, preserves ration of dataset,see distribution above\n",
    "cv = StratifiedKFold(n_splits = 5, shuffle=True, random_state=1)\n",
    "for train_index, test_index in cv.split(x,y):    \n",
    "    x_train, x_test = x[train_index], x[test_index]\n",
    "    y_train, y_test = y[train_index], y[test_index]\n",
    "print(f\"train:{round(len(x_train)/len(x),2)*100}%, test:{round(len(x_test)/len(x),2)*100}%\")       "
   ]
  },
  {
   "cell_type": "markdown",
   "metadata": {},
   "source": [
    "# Sampling and Classification Model"
   ]
  },
  {
   "cell_type": "code",
   "execution_count": 4,
   "metadata": {},
   "outputs": [],
   "source": [
    "def hyper_param_tuning(model, pipeline):\n",
    "    param_grid = {'C': [0.1, 1, 10, 100, 1000], # regularization\n",
    "                'gamma': [1, 0.1, 0.01, 0.001, 0.0001], # kernel coefficient\n",
    "                'kernel': ['rbf']} # radial basis function\n",
    "    pipe_param = {'svc__' + key: param_grid[key] for key in param_grid}\n",
    "    grid = GridSearchCV(pipeline, param_grid=pipe_param, refit=True, cv=cv, scoring='accuracy', verbose=1)\n",
    "    grid.fit(x_test, y_test)\n",
    "    return grid\n",
    "    \n",
    "def sampling_pipeline(model, sampling_mode, param_tune=False, sampling_ratio=[0.5,0.5]):\n",
    "    print(f\"SAMPLING: {' '.join(str(sampling_mode).split('_')).upper()} \\n\")\n",
    "    model_name = str(model)[:-2]\n",
    "    # sampling mode\n",
    "    pipelines = {\n",
    "                \"none\": make_pipeline(model),\n",
    "                \"over_sampling\":make_pipeline(\n",
    "                            SMOTE(random_state=1, sampling_strategy='auto'), \n",
    "                            model), \n",
    "                \"under_sampling\": make_pipeline(\n",
    "                            RandomUnderSampler(random_state=1, sampling_strategy='auto'), \n",
    "                            model),\n",
    "                \"mixed_sampling\" : make_pipeline(\n",
    "                            SMOTE(random_state=1, sampling_strategy=sampling_ratio[0]), \n",
    "                            RandomUnderSampler(random_state=1, sampling_strategy=sampling_ratio[1]), \n",
    "                            model)\n",
    "                }\n",
    "\n",
    "    if param_tune == False: # Vanilla Classification Model \n",
    "        # cross validation\n",
    "        scores = cross_val_score(pipelines[sampling_mode], x_train, y_train, scoring='accuracy', cv=cv)\n",
    "        print(f'Cross Validation Accuracy: {round(np.mean(scores),4)}, ({ round(np.std(scores),3)})')\n",
    "        # model\n",
    "        model = pipelines[sampling_mode]\n",
    "        model.fit(x_test, y_test)     \n",
    "    else: # Model Hyperparameter Tuning\n",
    "        print('Fitting Hyperparameter Tuning...')\n",
    "        model = hyper_param_tuning(model, pipelines[sampling_mode])\n",
    "        print(f\"\\tBest {model_name} parameter is: {model.best_params_}\")\n",
    "        # Mean cross-validated score of the best_estimator\n",
    "        print(f\"\\nCross Validation Score : {model.best_score_}\")\n",
    "\n",
    "    # prediction and metrics\n",
    "    hist = model.predict(x_test)\n",
    "    print(\"Test Metrics:\")\n",
    "    print(classification_report(y_test, hist))\n"
   ]
  },
  {
   "cell_type": "markdown",
   "metadata": {},
   "source": [
    "# Sampling Methods"
   ]
  },
  {
   "cell_type": "code",
   "execution_count": 5,
   "metadata": {},
   "outputs": [
    {
     "name": "stdout",
     "output_type": "stream",
     "text": [
      "SAMPLING: NONE \n",
      "\n",
      "Cross Validation Accuracy: 0.9102, (0.018)\n",
      "Test Metrics:\n",
      "              precision    recall  f1-score   support\n",
      "\n",
      "           0       0.97      0.79      0.87        42\n",
      "           1       0.89      0.99      0.93        71\n",
      "\n",
      "    accuracy                           0.91       113\n",
      "   macro avg       0.93      0.89      0.90       113\n",
      "weighted avg       0.92      0.91      0.91       113\n",
      "\n"
     ]
    }
   ],
   "source": [
    "sampling_pipeline(model=SVC(), sampling_mode=\"none\")"
   ]
  },
  {
   "cell_type": "code",
   "execution_count": 6,
   "metadata": {},
   "outputs": [
    {
     "name": "stdout",
     "output_type": "stream",
     "text": [
      "SAMPLING: OVER SAMPLING \n",
      "\n",
      "Cross Validation Accuracy: 0.9013, (0.012)\n",
      "Test Metrics:\n",
      "              precision    recall  f1-score   support\n",
      "\n",
      "           0       0.97      0.81      0.88        42\n",
      "           1       0.90      0.99      0.94        71\n",
      "\n",
      "    accuracy                           0.92       113\n",
      "   macro avg       0.93      0.90      0.91       113\n",
      "weighted avg       0.92      0.92      0.92       113\n",
      "\n"
     ]
    }
   ],
   "source": [
    "sampling_pipeline(model=SVC(), sampling_mode=\"over_sampling\")"
   ]
  },
  {
   "cell_type": "code",
   "execution_count": 7,
   "metadata": {},
   "outputs": [
    {
     "name": "stdout",
     "output_type": "stream",
     "text": [
      "SAMPLING: UNDER SAMPLING \n",
      "\n",
      "Cross Validation Accuracy: 0.9036, (0.012)\n",
      "Test Metrics:\n",
      "              precision    recall  f1-score   support\n",
      "\n",
      "           0       0.97      0.81      0.88        42\n",
      "           1       0.90      0.99      0.94        71\n",
      "\n",
      "    accuracy                           0.92       113\n",
      "   macro avg       0.93      0.90      0.91       113\n",
      "weighted avg       0.92      0.92      0.92       113\n",
      "\n"
     ]
    }
   ],
   "source": [
    "sampling_pipeline(model=SVC(), sampling_mode=\"under_sampling\")"
   ]
  },
  {
   "cell_type": "code",
   "execution_count": 8,
   "metadata": {},
   "outputs": [
    {
     "name": "stdout",
     "output_type": "stream",
     "text": [
      "Under Sampling Ratio for Majority :  0.8\n",
      "Over Sampling Ratio for Minority  :  0.66\n"
     ]
    }
   ],
   "source": [
    "# for mixed sampling ratio\n",
    "d_diff = ((counts[1] - counts[0])/2) + counts[0]\n",
    "min_ratio = round(d_diff/counts[1],2)\n",
    "maj_ratio = round(2-(d_diff/counts[0]),2)\n",
    "print(\"Under Sampling Ratio for Majority : \", min_ratio)\n",
    "print(\"Over Sampling Ratio for Minority  : \", maj_ratio)"
   ]
  },
  {
   "cell_type": "code",
   "execution_count": 9,
   "metadata": {},
   "outputs": [
    {
     "name": "stdout",
     "output_type": "stream",
     "text": [
      "SAMPLING: MIXED SAMPLING \n",
      "\n",
      "Cross Validation Accuracy: 0.9211, (0.021)\n",
      "Test Metrics:\n",
      "              precision    recall  f1-score   support\n",
      "\n",
      "           0       0.97      0.81      0.88        42\n",
      "           1       0.90      0.99      0.94        71\n",
      "\n",
      "    accuracy                           0.92       113\n",
      "   macro avg       0.93      0.90      0.91       113\n",
      "weighted avg       0.92      0.92      0.92       113\n",
      "\n"
     ]
    }
   ],
   "source": [
    "sampling_pipeline(model=SVC(), sampling_mode=\"mixed_sampling\", sampling_ratio=[maj_ratio, min_ratio])"
   ]
  },
  {
   "cell_type": "markdown",
   "metadata": {},
   "source": [
    "# Conclusion\n",
    "\n",
    "Above, we see that the accuracy of:\n",
    "- No Sampling = 91%\n",
    "- Over Sampling = 92%\n",
    "- Under Sampling = 92%\n",
    "- Mixed Sampling = 92%\n",
    "\n",
    "We can see that we will have a better classification accuracy, if any **sampling methods is used**, improving accuracy by **1%**.\n",
    "\n",
    "\n",
    "When we compare the sampling methods' metrics, we see that **all** method have an **identical metric scores**.\n",
    "\n",
    "\n"
   ]
  },
  {
   "cell_type": "markdown",
   "metadata": {},
   "source": [
    "# Sampling + Hyperparameter Tuning"
   ]
  },
  {
   "cell_type": "code",
   "execution_count": 10,
   "metadata": {},
   "outputs": [
    {
     "name": "stdout",
     "output_type": "stream",
     "text": [
      "SAMPLING: NONE \n",
      "\n",
      "Fitting Hyperparameter Tuning...\n",
      "Fitting 5 folds for each of 25 candidates, totalling 125 fits\n",
      "\tBest SVC parameter is: {'svc__C': 1, 'svc__gamma': 0.0001, 'svc__kernel': 'rbf'}\n",
      "\n",
      "Cross Validation Score : 0.9557312252964427\n",
      "Test Metrics:\n",
      "              precision    recall  f1-score   support\n",
      "\n",
      "           0       1.00      0.95      0.98        42\n",
      "           1       0.97      1.00      0.99        71\n",
      "\n",
      "    accuracy                           0.98       113\n",
      "   macro avg       0.99      0.98      0.98       113\n",
      "weighted avg       0.98      0.98      0.98       113\n",
      "\n"
     ]
    }
   ],
   "source": [
    "sampling_pipeline(model=SVC(), sampling_mode=\"none\", param_tune=True)"
   ]
  },
  {
   "cell_type": "code",
   "execution_count": 11,
   "metadata": {},
   "outputs": [
    {
     "name": "stdout",
     "output_type": "stream",
     "text": [
      "SAMPLING: OVER SAMPLING \n",
      "\n",
      "Fitting Hyperparameter Tuning...\n",
      "Fitting 5 folds for each of 25 candidates, totalling 125 fits\n",
      "\tBest SVC parameter is: {'svc__C': 1, 'svc__gamma': 0.0001, 'svc__kernel': 'rbf'}\n",
      "\n",
      "Cross Validation Score : 0.9466403162055336\n",
      "Test Metrics:\n",
      "              precision    recall  f1-score   support\n",
      "\n",
      "           0       0.98      0.98      0.98        42\n",
      "           1       0.99      0.99      0.99        71\n",
      "\n",
      "    accuracy                           0.98       113\n",
      "   macro avg       0.98      0.98      0.98       113\n",
      "weighted avg       0.98      0.98      0.98       113\n",
      "\n"
     ]
    }
   ],
   "source": [
    "sampling_pipeline(model=SVC(), sampling_mode=\"over_sampling\", param_tune=True)"
   ]
  },
  {
   "cell_type": "code",
   "execution_count": 12,
   "metadata": {},
   "outputs": [
    {
     "name": "stdout",
     "output_type": "stream",
     "text": [
      "SAMPLING: UNDER SAMPLING \n",
      "\n",
      "Fitting Hyperparameter Tuning...\n",
      "Fitting 5 folds for each of 25 candidates, totalling 125 fits\n",
      "\tBest SVC parameter is: {'svc__C': 1, 'svc__gamma': 0.0001, 'svc__kernel': 'rbf'}\n",
      "\n",
      "Cross Validation Score : 0.9466403162055336\n",
      "Test Metrics:\n",
      "              precision    recall  f1-score   support\n",
      "\n",
      "           0       0.95      0.98      0.96        42\n",
      "           1       0.99      0.97      0.98        71\n",
      "\n",
      "    accuracy                           0.97       113\n",
      "   macro avg       0.97      0.97      0.97       113\n",
      "weighted avg       0.97      0.97      0.97       113\n",
      "\n"
     ]
    }
   ],
   "source": [
    "sampling_pipeline(model=SVC(), sampling_mode=\"under_sampling\", param_tune=True)"
   ]
  },
  {
   "cell_type": "code",
   "execution_count": 13,
   "metadata": {},
   "outputs": [
    {
     "name": "stdout",
     "output_type": "stream",
     "text": [
      "SAMPLING: MIXED SAMPLING \n",
      "\n",
      "Fitting Hyperparameter Tuning...\n",
      "Fitting 5 folds for each of 25 candidates, totalling 125 fits\n",
      "\tBest SVC parameter is: {'svc__C': 1, 'svc__gamma': 0.0001, 'svc__kernel': 'rbf'}\n",
      "\n",
      "Cross Validation Score : 0.9557312252964427\n",
      "Test Metrics:\n",
      "              precision    recall  f1-score   support\n",
      "\n",
      "           0       0.98      0.98      0.98        42\n",
      "           1       0.99      0.99      0.99        71\n",
      "\n",
      "    accuracy                           0.98       113\n",
      "   macro avg       0.98      0.98      0.98       113\n",
      "weighted avg       0.98      0.98      0.98       113\n",
      "\n"
     ]
    }
   ],
   "source": [
    "sampling_pipeline(model=SVC(), sampling_mode=\"mixed_sampling\", sampling_ratio=[maj_ratio, min_ratio],param_tune=True)"
   ]
  },
  {
   "cell_type": "markdown",
   "metadata": {},
   "source": [
    "# Conclusion\n",
    "\n",
    "Above, we see that the accuracy of:\n",
    "- No Sampling = 98%\n",
    "- Over Sampling = 98%\n",
    "- Under Sampling = 97%\n",
    "- Mixed Sampling = 98%\n",
    "\n",
    "We can see that **undersampling** degraded the accuracy rate by **-1%**\n",
    "\n",
    "\n",
    "\n"
   ]
  }
 ],
 "metadata": {
  "kernelspec": {
   "display_name": "Python 3",
   "language": "python",
   "name": "python3"
  },
  "language_info": {
   "codemirror_mode": {
    "name": "ipython",
    "version": 3
   },
   "file_extension": ".py",
   "mimetype": "text/x-python",
   "name": "python",
   "nbconvert_exporter": "python",
   "pygments_lexer": "ipython3",
   "version": "3.7.10"
  },
  "metadata": {
   "interpreter": {
    "hash": "12bcd8d2def246449d2d4147f2494a5e9f81e0eb33a2db965b5f86fbf37c9491"
   }
  }
 },
 "nbformat": 4,
 "nbformat_minor": 2
}
